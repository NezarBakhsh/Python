{
 "cells": [
  {
   "cell_type": "code",
   "execution_count": 3,
   "id": "4a07fd36",
   "metadata": {},
   "outputs": [],
   "source": [
    "#load numpy library\n",
    "import numpy as np"
   ]
  },
  {
   "cell_type": "code",
   "execution_count": 4,
   "id": "c462d435",
   "metadata": {},
   "outputs": [],
   "source": [
    "#Creat a function name p for the print function\n",
    "def p(v):\n",
    "    print(v)"
   ]
  },
  {
   "cell_type": "code",
   "execution_count": 5,
   "id": "c12a11b2",
   "metadata": {},
   "outputs": [
    {
     "name": "stdout",
     "output_type": "stream",
     "text": [
      "[1 2 3]\n"
     ]
    },
    {
     "data": {
      "text/plain": [
       "numpy.ndarray"
      ]
     },
     "execution_count": 5,
     "metadata": {},
     "output_type": "execute_result"
    }
   ],
   "source": [
    "# Create an np Array with a data type of an integer and size of 16 bits\n",
    "a = np.array([1,2,3], dtype = \"int16\")\n",
    "p(a)\n",
    "type(a)"
   ]
  },
  {
   "cell_type": "code",
   "execution_count": 6,
   "id": "fbb7aae8",
   "metadata": {},
   "outputs": [
    {
     "name": "stdout",
     "output_type": "stream",
     "text": [
      "[[  1   2   3]\n",
      " [  2   3 100]]\n",
      "2\n",
      "int32\n"
     ]
    }
   ],
   "source": [
    "# Create a numpy array of 2 dimentions\n",
    "b = np.array([[1,2,3],[2,3,100]])\n",
    "p(b)\n",
    "# .ndim returns the # of dimentions\n",
    "p(b.ndim)\n",
    "# .dtype returns the data type of the array or martix\n",
    "p(b.dtype)"
   ]
  },
  {
   "cell_type": "code",
   "execution_count": 7,
   "id": "616b0ca7",
   "metadata": {},
   "outputs": [
    {
     "data": {
      "text/plain": [
       "1"
      ]
     },
     "execution_count": 7,
     "metadata": {},
     "output_type": "execute_result"
    }
   ],
   "source": [
    "# .ndim returns the # of dimentions\n",
    "a.ndim"
   ]
  },
  {
   "cell_type": "code",
   "execution_count": 8,
   "id": "e2ad0635",
   "metadata": {},
   "outputs": [
    {
     "data": {
      "text/plain": [
       "2"
      ]
     },
     "execution_count": 8,
     "metadata": {},
     "output_type": "execute_result"
    }
   ],
   "source": [
    "# .ndim returns the # of dimentions\n",
    "b.ndim"
   ]
  },
  {
   "cell_type": "code",
   "execution_count": 9,
   "id": "8d09b76d",
   "metadata": {},
   "outputs": [
    {
     "name": "stdout",
     "output_type": "stream",
     "text": [
      "(3,)\n"
     ]
    },
    {
     "data": {
      "text/plain": [
       "tuple"
      ]
     },
     "execution_count": 9,
     "metadata": {},
     "output_type": "execute_result"
    }
   ],
   "source": [
    "# .shape returns the shape of the matric (rows, columns) as a tuple\n",
    "p(a.shape)\n",
    "type(a.shape)"
   ]
  },
  {
   "cell_type": "code",
   "execution_count": 10,
   "id": "7db4980c",
   "metadata": {},
   "outputs": [
    {
     "data": {
      "text/plain": [
       "dtype('int16')"
      ]
     },
     "execution_count": 10,
     "metadata": {},
     "output_type": "execute_result"
    }
   ],
   "source": [
    "# .dtype returns the data type of the array or martix\n",
    "a.dtype"
   ]
  },
  {
   "cell_type": "code",
   "execution_count": 11,
   "id": "cd39b4fe",
   "metadata": {},
   "outputs": [
    {
     "name": "stdout",
     "output_type": "stream",
     "text": [
      "2\n",
      "[1 2 3]\n"
     ]
    }
   ],
   "source": [
    "# .itemsize Length of one array element in bytes.\n",
    "p(a.itemsize)\n",
    "p(a)"
   ]
  },
  {
   "cell_type": "code",
   "execution_count": 12,
   "id": "5a33bc9d",
   "metadata": {},
   "outputs": [
    {
     "name": "stdout",
     "output_type": "stream",
     "text": [
      "[[  1   2   3]\n",
      " [  2   3 100]]\n"
     ]
    }
   ],
   "source": [
    "# Look for a specific row & specific column [row,column] index starts at 0, : means all rows or all column\n",
    "p(b)\n"
   ]
  },
  {
   "cell_type": "code",
   "execution_count": 13,
   "id": "b602ab76",
   "metadata": {},
   "outputs": [
    {
     "name": "stdout",
     "output_type": "stream",
     "text": [
      "[1 2 3]\n"
     ]
    }
   ],
   "source": [
    "# first row, all columns\n",
    "p(b[0, :])"
   ]
  },
  {
   "cell_type": "code",
   "execution_count": 25,
   "id": "70f3d112",
   "metadata": {},
   "outputs": [
    {
     "name": "stdout",
     "output_type": "stream",
     "text": [
      "[  2   3 100]\n"
     ]
    }
   ],
   "source": [
    "# second row, all columns\n",
    "p(b[1, :])"
   ]
  },
  {
   "cell_type": "code",
   "execution_count": 26,
   "id": "51f58612",
   "metadata": {},
   "outputs": [
    {
     "name": "stdout",
     "output_type": "stream",
     "text": [
      "3\n"
     ]
    }
   ],
   "source": [
    "# first row, 3rd column\n",
    "p(b[0, 2])"
   ]
  },
  {
   "cell_type": "code",
   "execution_count": 27,
   "id": "d0933a32",
   "metadata": {},
   "outputs": [
    {
     "name": "stdout",
     "output_type": "stream",
     "text": [
      "[[  1   2   3]\n",
      " [  2   3 100]]\n"
     ]
    }
   ],
   "source": [
    "p(b)"
   ]
  },
  {
   "cell_type": "code",
   "execution_count": 24,
   "id": "11698e5e",
   "metadata": {},
   "outputs": [
    {
     "data": {
      "text/plain": [
       "array([[ 10,   2,   3],\n",
       "       [  2,   3, 100]])"
      ]
     },
     "execution_count": 24,
     "metadata": {},
     "output_type": "execute_result"
    }
   ],
   "source": [
    "# insert 10 into the first row & first column item place\n",
    "b[0,0] = 10\n",
    "b"
   ]
  },
  {
   "cell_type": "code",
   "execution_count": 28,
   "id": "7192d059",
   "metadata": {},
   "outputs": [
    {
     "name": "stdout",
     "output_type": "stream",
     "text": [
      "[[   1    2 1000]\n",
      " [   2    3 1000]]\n"
     ]
    }
   ],
   "source": [
    "# insert 1000 into all the rows of the 3rd column\n",
    "b[:,2] = 1000\n",
    "p(b)"
   ]
  },
  {
   "cell_type": "code",
   "execution_count": 32,
   "id": "ea1cd8f6",
   "metadata": {},
   "outputs": [
    {
     "name": "stdout",
     "output_type": "stream",
     "text": [
      "[[[1 2]\n",
      "  [3 4]]\n",
      "\n",
      " [[5 6]\n",
      "  [7 8]]]\n",
      "3\n"
     ]
    }
   ],
   "source": [
    "# array of 3 dimentions\n",
    "bb = np.array([[[1,2],[3,4]],[[5,6],[7,8]]])\n",
    "p(bb)\n",
    "p(bb.ndim)"
   ]
  },
  {
   "cell_type": "code",
   "execution_count": 33,
   "id": "e16a5906",
   "metadata": {},
   "outputs": [
    {
     "data": {
      "text/plain": [
       "array([3, 4])"
      ]
     },
     "execution_count": 33,
     "metadata": {},
     "output_type": "execute_result"
    }
   ],
   "source": [
    "#first section, second row, all columns\n",
    "bb[0,1,:]"
   ]
  },
  {
   "cell_type": "code",
   "execution_count": 35,
   "id": "97da7130",
   "metadata": {},
   "outputs": [
    {
     "data": {
      "text/plain": [
       "array([[3, 4],\n",
       "       [7, 8]])"
      ]
     },
     "execution_count": 35,
     "metadata": {},
     "output_type": "execute_result"
    }
   ],
   "source": [
    "# all sections, second row, all columns\n",
    "bb[:,1,:]"
   ]
  },
  {
   "cell_type": "code",
   "execution_count": 35,
   "id": "f2c14d03",
   "metadata": {},
   "outputs": [
    {
     "name": "stdout",
     "output_type": "stream",
     "text": [
      "[[0. 0. 0.]\n",
      " [0. 0. 0.]\n",
      " [0. 0. 0.]\n",
      " [0. 0. 0.]\n",
      " [0. 0. 0.]\n",
      " [0. 0. 0.]\n",
      " [0. 0. 0.]\n",
      " [0. 0. 0.]\n",
      " [0. 0. 0.]\n",
      " [0. 0. 0.]]\n",
      "(10, 3)\n"
     ]
    }
   ],
   "source": [
    "# create an all zero matrix of 10 row and 3 columns\n",
    "Zeros = np.zeros((10,3))\n",
    "p(Zeros)\n",
    "p(Zeros.shape)"
   ]
  },
  {
   "cell_type": "code",
   "execution_count": 17,
   "id": "c1a3e730",
   "metadata": {},
   "outputs": [
    {
     "name": "stdout",
     "output_type": "stream",
     "text": [
      "Create an equally spaced numpy.array of 6 elements\n",
      "[0 1 2 3 4 5]\n",
      "<class 'numpy.ndarray'>\n",
      "x.shape:\n",
      "(6,)\n",
      "Create a range object of 6 elemetns:\n",
      "range(0, 6)\n",
      "<class 'range'>\n",
      "6\n",
      "Wse the np.full_like(array or matrix, value to be inserted in all elemetns):\n",
      "[0 1 2 3 4 5]\n",
      "[1 1 1 1 1 1]\n"
     ]
    }
   ],
   "source": [
    "# Create an equally spaced numpy.array of 6 elements\n",
    "p(\"Create an equally spaced numpy.array of 6 elements\")\n",
    "x = np.arange(6, dtype=int)\n",
    "p(x)\n",
    "p(type(x))\n",
    "\n",
    "p(\"x.shape:\")\n",
    "p(x.shape)\n",
    "\n",
    "# Create a range object of 6 elemetns\n",
    "p(\"Create a range object of 6 elemetns:\")\n",
    "y = range(6)\n",
    "p(y)\n",
    "p(type(y))\n",
    "p(len(y))\n",
    "\n",
    "# use the np.full_like(array or matrix, value to be inserted in all elemetns)\n",
    "p(\"Wse the np.full_like(array or matrix, value to be inserted in all elemetns):\")\n",
    "gg = np.full_like(x, 1)\n",
    "p(x)\n",
    "p(gg)\n",
    "\n",
    "# np.arange?\n",
    "# np.full_like(x, 0.1)\n",
    "# array([0, 0, 0, 0, 0, 0])\n",
    "# np.full_like(x, 0.1, dtype=np.double)\n",
    "# array([0.1, 0.1, 0.1, 0.1, 0.1, 0.1])\n",
    "# np.full_like(x, np.nan, dtype=np.double)\n",
    "# array([nan, nan, nan, nan, nan, nan]) "
   ]
  },
  {
   "cell_type": "code",
   "execution_count": 34,
   "id": "50df1736",
   "metadata": {},
   "outputs": [
    {
     "name": "stdout",
     "output_type": "stream",
     "text": [
      "[[0.415569   0.88638329 0.01941229 0.8715382  0.57474772]\n",
      " [0.94351808 0.34681795 0.80369158 0.26491282 0.90749575]\n",
      " [0.69249646 0.47211067 0.63325251 0.56821703 0.65407706]\n",
      " [0.01987187 0.19386217 0.46147306 0.8625155  0.14917718]]\n",
      "(4, 5)\n"
     ]
    }
   ],
   "source": [
    "# Create a 4x2 matrix of all random values between 0 to 1\n",
    "x = np.random.rand(4,5)\n",
    "p(x)\n",
    "p(x.shape)"
   ]
  },
  {
   "cell_type": "code",
   "execution_count": 63,
   "id": "7920fd60",
   "metadata": {},
   "outputs": [
    {
     "name": "stdout",
     "output_type": "stream",
     "text": [
      "[[1.73301603e+00 6.28336566e-01 4.81292562e+00 4.79855434e+00\n",
      "  3.97693930e+00]\n",
      " [4.27525944e+00 1.73203729e-03 4.27870498e+00 4.02804180e+00\n",
      "  2.76773371e+00]\n",
      " [4.96084844e+00 2.50680334e+00 2.37299882e+00 5.66895197e-01\n",
      "  3.31839389e+00]\n",
      " [4.85025700e+00 1.21243441e+00 8.43060082e-02 1.68515904e+00\n",
      "  4.13167326e+00]\n",
      " [4.05836909e+00 4.60329075e+00 1.62017378e+00 1.91233962e+00\n",
      "  4.67724697e+00]]\n",
      "(5, 5)\n"
     ]
    }
   ],
   "source": [
    "# Create a 4x2 matrix of all random values between 0 to 5\n",
    "zaz = 5 * np.random.rand(5,5)\n",
    "p(zaz)\n",
    "p(zaz.shape)"
   ]
  },
  {
   "cell_type": "code",
   "execution_count": 44,
   "id": "9b860781",
   "metadata": {},
   "outputs": [
    {
     "name": "stdout",
     "output_type": "stream",
     "text": [
      "5x2 matrix with random integer values between 0 to 10:\n",
      "[[2 3]\n",
      " [6 3]\n",
      " [0 3]\n",
      " [0 1]\n",
      " [5 2]]\n",
      "(5, 2)\n",
      "----------------------------------------------------------------------\n",
      "Create a 2nd 2x5 matrix with random integer values between 0 to 10\n",
      "[[5 9 5 0 2]\n",
      " [3 8 2 4 1]]\n",
      "----------------------------------------------------------------------\n",
      "z=np.matmul(a,b):\n",
      "[[19 42 16 12  7]\n",
      " [39 78 36 12 15]\n",
      " [ 9 24  6 12  3]\n",
      " [ 3  8  2  4  1]\n",
      " [31 61 29  8 12]]\n",
      "(5, 5)\n",
      "----------------------------------------------------------------------\n",
      "a@b:\n",
      "[[19 42 16 12  7]\n",
      " [39 78 36 12 15]\n",
      " [ 9 24  6 12  3]\n",
      " [ 3  8  2  4  1]\n",
      " [31 61 29  8 12]]\n",
      "(5, 5)\n",
      "----------------------------------------------------------------------\n",
      "Find the determenate of the matrix\n",
      "np.linalg.det(z):\n",
      "1.5994508252957338e-44\n"
     ]
    }
   ],
   "source": [
    "# Create a 5x2 matrix with random integer values between 0 to 10\n",
    "p(\"5x2 matrix with random integer values between 0 to 10:\")\n",
    "a = np.random.randint(10, size=(5,2))\n",
    "print(a)\n",
    "p(a.shape)\n",
    "p(\"----------------------------------------------------------------------\")\n",
    "\n",
    "# Create a 2nd 2x5 matrix with random integer values between 0 to 10\n",
    "p(\"Create a 2nd 2x5 matrix with random integer values between 0 to 10\")\n",
    "b = np.random.randint(10, size=(2,5))\n",
    "print(b)\n",
    "p(\"----------------------------------------------------------------------\")\n",
    "\n",
    "# Multiply matrix x & b using the matmul function \n",
    "p(\"z=np.matmul(a,b):\")\n",
    "z=np.matmul(a,b)\n",
    "print(z)\n",
    "p(z.shape)\n",
    "p(\"----------------------------------------------------------------------\")\n",
    "\n",
    "# Multiply matrix x & b using the matmul function \n",
    "p(\"a@b:\")\n",
    "z=a@b\n",
    "print(z)\n",
    "p(z.shape)\n",
    "p(\"----------------------------------------------------------------------\")\n",
    "\n",
    "# Find the determenate of the matrix\n",
    "p(\"Find the determenate of the matrix\")\n",
    "p(\"np.linalg.det(z):\")\n",
    "zoz = np.linalg.det(z)\n",
    "print(zoz)"
   ]
  },
  {
   "cell_type": "code",
   "execution_count": 30,
   "id": "feec4624",
   "metadata": {},
   "outputs": [
    {
     "name": "stdout",
     "output_type": "stream",
     "text": [
      "[7 9 0 8 6]\n",
      "1\n"
     ]
    }
   ],
   "source": [
    "# creat a random array of 5 int\n",
    "b = np.random.randint(10, size=(5,))\n",
    "print(b)\n",
    "p(b.ndim)"
   ]
  },
  {
   "cell_type": "code",
   "execution_count": 90,
   "id": "39382217",
   "metadata": {},
   "outputs": [
    {
     "name": "stdout",
     "output_type": "stream",
     "text": [
      "Matrix a:\n",
      "[[1 2]\n",
      " [2 3]]\n",
      "(2, 2)\n",
      "Matrix b:\n",
      "[[8 4]\n",
      " [4 7]]\n",
      "Use np.dot(a,b):\n",
      "[[16 18]\n",
      " [28 29]]\n",
      "Use a@b:\n",
      "[[16 18]\n",
      " [28 29]]\n",
      "Use matmul function:\n",
      "[[16 18]\n",
      " [28 29]]\n",
      "Use the a * b\n",
      "[[ 8  8]\n",
      " [ 8 21]]\n"
     ]
    }
   ],
   "source": [
    "# Create a matrix of size 2x2\n",
    "a = np.array([[1,2],[2,3]])\n",
    "p(\"Matrix a:\")\n",
    "p(a)\n",
    "p(a.shape)\n",
    "\n",
    "b = np.array([[8,4],[4,7]])\n",
    "p(\"Matrix b:\")\n",
    "p(b)\n",
    "\n",
    "p(\"Use np.dot(a,b):\")\n",
    "print(np.dot(a,b))\n",
    "p(\"Use a@b:\")\n",
    "print(a@b)\n",
    "p(\"Use matmul function:\")\n",
    "p(np.matmul(a,b))\n",
    "p(\"Use the a * b\")\n",
    "p(a * b)"
   ]
  },
  {
   "cell_type": "code",
   "execution_count": 103,
   "id": "1a300b5d",
   "metadata": {},
   "outputs": [
    {
     "name": "stdout",
     "output_type": "stream",
     "text": [
      "[[1 2]\n",
      " [3 4]]\n"
     ]
    }
   ],
   "source": [
    "# Create a matrix of 2x2\n",
    "a = np.array(([1,2],[3,4]))\n",
    "p(a)"
   ]
  },
  {
   "cell_type": "code",
   "execution_count": 107,
   "id": "eb645fd9",
   "metadata": {},
   "outputs": [
    {
     "name": "stdout",
     "output_type": "stream",
     "text": [
      "[[0 1]\n",
      " [1 9]]\n",
      "-1.0\n"
     ]
    }
   ],
   "source": [
    "# Create a matrix of size 2v2 filled with random int values from 0 to 10\n",
    "b = np.random.randint(10, size=[2,2])\n",
    "p(b)\n",
    "\n",
    "# Get the determinant of b\n",
    "p(np.linalg.det(b))"
   ]
  },
  {
   "cell_type": "code",
   "execution_count": 111,
   "id": "4a4d301a",
   "metadata": {},
   "outputs": [
    {
     "name": "stdout",
     "output_type": "stream",
     "text": [
      "[[1. 0. 0. 0. 0.]\n",
      " [0. 1. 0. 0. 0.]\n",
      " [0. 0. 1. 0. 0.]\n",
      " [0. 0. 0. 1. 0.]\n",
      " [0. 0. 0. 0. 1.]]\n",
      "1.0\n"
     ]
    }
   ],
   "source": [
    "# Create an identity matrix of size 5x5\n",
    "x = np.identity(5)\n",
    "print(x)\n",
    "\n",
    "# Get the determinant of the matrix\n",
    "y = np.linalg.det(x)\n",
    "print(y)"
   ]
  },
  {
   "cell_type": "code",
   "execution_count": 124,
   "id": "58b2374a",
   "metadata": {},
   "outputs": [
    {
     "name": "stdout",
     "output_type": "stream",
     "text": [
      "[[ 52  40  41]\n",
      " [ 60 520  11]]\n",
      "2\n"
     ]
    }
   ],
   "source": [
    "# Create a 2x3 matrix\n",
    "stats = np.array([[52,40,41],[60,520,11]])\n",
    "print(stats)\n",
    "p(stats.ndim)"
   ]
  },
  {
   "cell_type": "code",
   "execution_count": 129,
   "id": "c49a3bec",
   "metadata": {},
   "outputs": [
    {
     "name": "stdout",
     "output_type": "stream",
     "text": [
      "maximum row wise:\n",
      "[ 52 520]\n",
      "maximum coumn wise:\n",
      "[ 60 520  41]\n"
     ]
    }
   ],
   "source": [
    "# Find the maximum row wise\n",
    "p(\"maximum row wise:\")\n",
    "p(np.max(stats, axis=1))\n",
    "\n",
    "# Find the maximum coumn wise\n",
    "p(\"maximum coumn wise:\")\n",
    "p(np.max(stats, axis=0))"
   ]
  },
  {
   "cell_type": "code",
   "execution_count": 148,
   "id": "313d0c70",
   "metadata": {},
   "outputs": [
    {
     "name": "stdout",
     "output_type": "stream",
     "text": [
      "Sum row wise:\n",
      "[133 591]\n",
      "(2,)\n",
      "<class 'numpy.ndarray'>\n",
      "591\n",
      "-------------------------------------------\n",
      "[[133 591]]\n",
      "(1, 2)\n",
      "<class 'numpy.ndarray'>\n",
      "591\n",
      "-------------------------------------------\n",
      "Sum column wise:\n",
      "[112 560  52]\n"
     ]
    }
   ],
   "source": [
    "# get the sum row wise\n",
    "p(\"Sum row wise:\")\n",
    "z=np.sum(stats, axis=1)\n",
    "p(z)\n",
    "p(z.shape)\n",
    "p(type(z))\n",
    "p(z[1])\n",
    "\n",
    "p(\"-------------------------------------------\")\n",
    "zz = z.reshape(1,2)\n",
    "p(zz)\n",
    "p(zz.shape)\n",
    "p(type(zz))\n",
    "p(zz[0,1])\n",
    "p(\"-------------------------------------------\")\n",
    "\n",
    "# get the sum column wise\n",
    "p(\"Sum column wise:\")\n",
    "p(np.sum(stats, axis=0))"
   ]
  },
  {
   "cell_type": "code",
   "execution_count": 151,
   "id": "58eb5086",
   "metadata": {},
   "outputs": [
    {
     "name": "stdout",
     "output_type": "stream",
     "text": [
      "[[1 2 3 4]\n",
      " [5 6 7 8]]\n",
      "(2, 4)\n",
      "-------------------------------------------\n",
      "[[1 2]\n",
      " [3 4]\n",
      " [5 6]\n",
      " [7 8]]\n"
     ]
    }
   ],
   "source": [
    "# Create a matrix of 2 x 4\n",
    "before = np.array([[1,2,3,4],[5,6,7,8]])\n",
    "print(before)\n",
    "print(before.shape)\n",
    "p(\"-------------------------------------------\")\n",
    "\n",
    "# reshape the matrix from 2x4 to 4x2\n",
    "after = before.reshape(4,2)\n",
    "p(after)"
   ]
  },
  {
   "cell_type": "code",
   "execution_count": 152,
   "id": "4fa4412d",
   "metadata": {},
   "outputs": [
    {
     "name": "stdout",
     "output_type": "stream",
     "text": [
      "[5 7 9]\n"
     ]
    }
   ],
   "source": [
    "# sum array1 + array2\n",
    "x=np.array([1,2,3])+np.array([4,5,6])\n",
    "p(x)\n"
   ]
  },
  {
   "cell_type": "code",
   "execution_count": 160,
   "id": "6cad7cea",
   "metadata": {},
   "outputs": [
    {
     "name": "stdout",
     "output_type": "stream",
     "text": [
      "[-10.  -9.  -8.  -7.  -6.  -5.  -4.  -3.  -2.  -1.   0.   1.   2.   3.\n",
      "   4.   5.   6.   7.   8.   9.  10.]\n",
      "10.0\n"
     ]
    }
   ],
   "source": [
    "# Create an array of 21 equally spaced between -10 to 10\n",
    "my_array = np.linspace(-10,10,21)\n",
    "print(my_array)\n",
    "# Max value of numpy array\n",
    "x=my_array.max()\n",
    "p(x)"
   ]
  },
  {
   "cell_type": "code",
   "execution_count": 165,
   "id": "1949c771",
   "metadata": {},
   "outputs": [
    {
     "name": "stdout",
     "output_type": "stream",
     "text": [
      "[-10.  -9.  -8.  -7.  -6.  -5.  -4.  -3.  -2.  -1.   0.   1.   2.   3.\n",
      "   4.   5.   6.   7.   8.   9.  10.]\n",
      "20\n"
     ]
    }
   ],
   "source": [
    "# Create an array of 21 equally spaced between -10 to 10\n",
    "my_array = np.linspace(-10,10,21)\n",
    "print(my_array)\n",
    "\n",
    "# Argmax value of numpy array (location at which the max occurs)\n",
    "x=my_array.argmax()\n",
    "p(x)"
   ]
  },
  {
   "cell_type": "code",
   "execution_count": 173,
   "id": "96fe0ba3",
   "metadata": {},
   "outputs": [
    {
     "name": "stdout",
     "output_type": "stream",
     "text": [
      "[[1 2 3]\n",
      " [4 5 6]]\n",
      "[[  2.71828183   7.3890561   20.08553692]\n",
      " [ 54.59815003 148.4131591  403.42879349]]\n"
     ]
    }
   ],
   "source": [
    "# create array1\n",
    "v1=np.array([1,2,3])\n",
    "# create array2\n",
    "v2=np.array([4,5,6])\n",
    "\n",
    "# vertically stack v1 and v2\n",
    "v3 = np.vstack((v1,v2))\n",
    "p(v3)\n",
    "\n",
    "# find the exponent of v3\n",
    "z = np.exp(v3)\n",
    "p(z)"
   ]
  },
  {
   "cell_type": "code",
   "execution_count": 184,
   "id": "63c08efb",
   "metadata": {},
   "outputs": [
    {
     "name": "stdout",
     "output_type": "stream",
     "text": [
      "array1 & array2:\n",
      "[1 2 3] [4 5 6]\n",
      "-------------------------------------------\n",
      "Horizontal stack:\n",
      "[1 2 3 4 5 6]\n",
      "-------------------------------------------\n",
      "vertical stack:\n",
      "[[1 2 3]\n",
      " [4 5 6]]\n"
     ]
    }
   ],
   "source": [
    "# create 2 arrays of 3 elements\n",
    "my_array1 = np.array([1,2,3])\n",
    "my_array2 = np.array([4,5,6])\n",
    "\n",
    "\n",
    "# print array1 and array2\n",
    "p(\"array1 & array2:\")\n",
    "\n",
    "print(my_array1,my_array2)\n",
    "p(\"-------------------------------------------\")\n",
    "\n",
    "# stack array1 and array 2 horizontilly\n",
    "p(\"Horizontal stack:\")\n",
    "print(np.hstack((my_array1,my_array2)))\n",
    "\n",
    "p(\"-------------------------------------------\")\n",
    "\n",
    "# stoack array1 and array2 vertically\n",
    "p(\"vertical stack:\")\n",
    "p(np.vstack((my_array1, my_array2)))\n",
    "np.vstack?"
   ]
  },
  {
   "cell_type": "code",
   "execution_count": 198,
   "id": "fc1e3d56",
   "metadata": {},
   "outputs": [
    {
     "name": "stdout",
     "output_type": "stream",
     "text": [
      "Print a:\n",
      "[[1]\n",
      " [2]\n",
      " [3]]\n",
      "Print b:\n",
      "[[4]\n",
      " [5]\n",
      " [6]]\n",
      "Vstack a & b\n",
      "[[1]\n",
      " [2]\n",
      " [3]\n",
      " [4]\n",
      " [5]\n",
      " [6]]\n",
      "Hstack a & b\n",
      "[[1 4]\n",
      " [2 5]\n",
      " [3 6]]\n"
     ]
    }
   ],
   "source": [
    "# Create array a\n",
    "a = np.array([[1], [2], [3]])\n",
    "p(\"Print a:\")\n",
    "p(a)\n",
    "\n",
    "# Create array b\n",
    "b = np.array([[4], [5], [6]])\n",
    "p(\"Print b:\")\n",
    "p(b)\n",
    "\n",
    "# vertically stack a & b\n",
    "p(\"Vstack a & b\")\n",
    "p(np.vstack((a,b)))\n",
    "\n",
    "# Horizontally stack a & b\n",
    "p(\"Hstack a & b\")\n",
    "p(np.hstack((a,b)))"
   ]
  },
  {
   "cell_type": "code",
   "execution_count": 226,
   "id": "8452d163",
   "metadata": {},
   "outputs": [
    {
     "name": "stdout",
     "output_type": "stream",
     "text": [
      "Print Array\n",
      "[0. 1. 2. 3. 4. 5. 6. 7. 8. 9.]\n",
      "Insert 100 into the first element\n",
      "[100.   1.   2.   3.   4.   5.   6.   7.   8.   9.]\n",
      "Sort array\n",
      "[  1.   2.   3.   4.   5.   6.   7.   8.   9. 100.]\n",
      "-------------------------------------------\n",
      "Sorting Descending\n",
      "[100.   9.   8.   7.   6.   5.   4.   3.   2.   1.]\n"
     ]
    }
   ],
   "source": [
    "# Create an array of 10 elements divided equally between 0 to 10\n",
    "p(\"Print Array\")\n",
    "my_array = np.linspace(0,9,10)\n",
    "p(my_array)\n",
    "\n",
    "# Insert 100 into the first element\n",
    "my_array[0] = 100\n",
    "p(\"Insert 100 into the first element\")\n",
    "p(my_array)\n",
    "#print(my_array)\n",
    "#my_array = my_array.sort()\n",
    "#my_array\n",
    "\n",
    "# Sorting your array\n",
    "z = np.sort(my_array)\n",
    "p(\"Sort array\")\n",
    "p(z)\n",
    "p(\"-------------------------------------------\")\n",
    "\n",
    "# Reverse sorting array\n",
    "p(\"Sorting Descending\")\n",
    "zz = -np.sort(-z)\n",
    "p(zz)"
   ]
  },
  {
   "cell_type": "code",
   "execution_count": 250,
   "id": "dd66e8c1",
   "metadata": {},
   "outputs": [
    {
     "name": "stdout",
     "output_type": "stream",
     "text": [
      "Array1\n",
      "[ 0.  1.  2.  3.  4.  5.  6.  7.  8.  9. 10. 11.]\n",
      "matrix1\n",
      "[[ 0.  1.  2.  3.  4.  5.]\n",
      " [ 6.  7.  8.  9. 10. 11.]]\n",
      "Array2\n",
      "[  0.           9.09090909  18.18181818  27.27272727  36.36363636\n",
      "  45.45454545  54.54545455  63.63636364  72.72727273  81.81818182\n",
      "  90.90909091 100.        ]\n",
      "matrix2\n",
      "[[  0.           9.09090909  18.18181818  27.27272727  36.36363636\n",
      "   45.45454545]\n",
      " [ 54.54545455  63.63636364  72.72727273  81.81818182  90.90909091\n",
      "  100.        ]]\n",
      "matrix1 @ matrix2\n",
      "[[ 909.09090909 1033.05785124]\n",
      " [2396.69421488 2818.18181818]]\n"
     ]
    }
   ],
   "source": [
    "# Create array1 with 12 elements equally spaced between  0 to 11\n",
    "array1 = np.linspace(0,11,12)\n",
    "p(\"Array1\")\n",
    "p(array1)\n",
    "\n",
    "# Reshape array1 into a 2x6 matrix\n",
    "p(\"matrix1\")\n",
    "matrix1 = array1.reshape(2,6)\n",
    "p(matrix1)\n",
    "\n",
    "\n",
    "# Create array2 with 12 elements equally spaced between  0 to 100\n",
    "array2 = np.linspace(0,100,12)\n",
    "p(\"Array2\")\n",
    "p(array2)\n",
    "\n",
    "# Reshape array2 into a 2x6 matrix\n",
    "p(\"matrix2\")\n",
    "matrix2 = array2.reshape(2,6)\n",
    "p(matrix2)\n",
    "\n",
    "# Multiply matrix1 with matrix2 using linear algebra matrix multiplication\n",
    "z=my_matrix1 @ my_matrix2\n",
    "p(\"matrix1 @ matrix2\")\n",
    "\n",
    "p(z)"
   ]
  },
  {
   "cell_type": "code",
   "execution_count": 168,
   "id": "878a9094",
   "metadata": {},
   "outputs": [
    {
     "name": "stdout",
     "output_type": "stream",
     "text": [
      "[[ 909.09090909 1033.05785124]\n",
      " [2396.69421488 2818.18181818]]\n"
     ]
    }
   ],
   "source": [
    "zz = np.matmul(my_matrix1,my_matrix2)\n",
    "p(zz)"
   ]
  },
  {
   "cell_type": "code",
   "execution_count": 279,
   "id": "e9da1b0b",
   "metadata": {},
   "outputs": [],
   "source": [
    "# Generating random numbers using Numpy's random function\n",
    "# The function np.random.rand will take length of an array or the shape of the \n",
    "np.random.rand?\n"
   ]
  },
  {
   "cell_type": "code",
   "execution_count": 282,
   "id": "1545486b",
   "metadata": {},
   "outputs": [
    {
     "name": "stdout",
     "output_type": "stream",
     "text": [
      "[0.24082878 0.10029394 0.01642963 0.92952932]\n",
      "(4,)\n"
     ]
    }
   ],
   "source": [
    "# Creates an array of 4 elements of random numbers from [0,1) - uniform distribution\n",
    "random_array = np.random.rand(4)\n",
    "p(random_array)\n",
    "p(random_array.shape)"
   ]
  },
  {
   "cell_type": "code",
   "execution_count": 283,
   "id": "ee08a20a",
   "metadata": {},
   "outputs": [
    {
     "name": "stdout",
     "output_type": "stream",
     "text": [
      "[[0.66991655 0.78515291 0.28173011 0.58641017 0.06395527]\n",
      " [0.4856276  0.97749514 0.87650525 0.33815895 0.96157015]\n",
      " [0.23170163 0.94931882 0.9413777  0.79920259 0.63044794]\n",
      " [0.87428797 0.29302028 0.84894356 0.61787669 0.01323686]\n",
      " [0.34723352 0.14814086 0.98182939 0.47837031 0.49739137]]\n",
      "(5, 5)\n"
     ]
    }
   ],
   "source": [
    "# Generating a random 5x5 matrix (Uniform distribution)\n",
    "random_matrix = np.random.rand(5,5)\n",
    "p(random_matrix)\n",
    "p(random_matrix.shape)"
   ]
  },
  {
   "cell_type": "code",
   "execution_count": 315,
   "id": "4c66f85f",
   "metadata": {},
   "outputs": [
    {
     "name": "stdout",
     "output_type": "stream",
     "text": [
      "[ -5   4   7  -1   4   2  -8  -7 -10   2]\n"
     ]
    }
   ],
   "source": [
    "# np.random.randint(lowst value, highest value, array or matrix size(as a tuple))\n",
    "z=np.random.randint(low=-10,high=10, size=(10))\n",
    "p(z)\n",
    "np.random.randint?"
   ]
  },
  {
   "cell_type": "code",
   "execution_count": 295,
   "id": "7643edba",
   "metadata": {},
   "outputs": [
    {
     "name": "stdout",
     "output_type": "stream",
     "text": [
      "Print 10x10 random int matrix, low: -10, high: 10\n",
      "[[  2  -4   0   0  -5   0  -2   5  -6   9]\n",
      " [ -5  -7  -3   5   5   0   9   3  -3  -5]\n",
      " [ -3   8  -3 -10   2  -3  -2   5  -6   0]\n",
      " [  6  -2   6   4 -10   5   2   9  -8   3]\n",
      " [ -8   7   3   6  -5  -3  -9   7  -8  -9]\n",
      " [ -6  -2   8  -9  -7   6  -7  -5  -9  -7]\n",
      " [ -3  -9  -9  -3  -6   3   2   8 -10   1]\n",
      " [  9  -8   3  -6   6   6   0   1  -7  -2]\n",
      " [  9   4 -10 -10  -8   1  -5  -8  -3   2]\n",
      " [  1   9  -9   6   8   8   4   5   5  -5]]\n",
      "(10, 10)\n",
      "-------------------------------------------\n",
      "Print sorted matrix\n",
      "[[ -6  -5  -4  -2   0   0   0   2   5   9]\n",
      " [ -7  -5  -5  -3  -3   0   3   5   5   9]\n",
      " [-10  -6  -3  -3  -3  -2   0   2   5   8]\n",
      " [-10  -8  -2   2   3   4   5   6   6   9]\n",
      " [ -9  -9  -8  -8  -5  -3   3   6   7   7]\n",
      " [ -9  -9  -7  -7  -7  -6  -5  -2   6   8]\n",
      " [-10  -9  -9  -6  -3  -3   1   2   3   8]\n",
      " [ -8  -7  -6  -2   0   1   3   6   6   9]\n",
      " [-10 -10  -8  -8  -5  -3   1   2   4   9]\n",
      " [ -9  -5   1   4   5   5   6   8   8   9]]\n",
      "-------------------------------------------\n",
      "Print reshaped matrix into a single 100 element array\n",
      "[  2  -4   0   0  -5   0  -2   5  -6   9  -5  -7  -3   5   5   0   9   3\n",
      "  -3  -5  -3   8  -3 -10   2  -3  -2   5  -6   0   6  -2   6   4 -10   5\n",
      "   2   9  -8   3  -8   7   3   6  -5  -3  -9   7  -8  -9  -6  -2   8  -9\n",
      "  -7   6  -7  -5  -9  -7  -3  -9  -9  -3  -6   3   2   8 -10   1   9  -8\n",
      "   3  -6   6   6   0   1  -7  -2   9   4 -10 -10  -8   1  -5  -8  -3   2\n",
      "   1   9  -9   6   8   8   4   5   5  -5]\n",
      "(100,)\n"
     ]
    }
   ],
   "source": [
    "# create an array of 100 random integers with a minimum value of 10, maximum value of 10\n",
    "z=np.random.randint(low=-10,high=10,size=(10,10))\n",
    "p(\"Print 10x10 random int matrix, low: -10, high: 10\")\n",
    "p(z)\n",
    "p(z.shape)\n",
    "p(\"-------------------------------------------\")\n",
    "\n",
    "# Sort the array\n",
    "zsort = np.sort(z)\n",
    "p(\"Print sorted matrix\")\n",
    "p(zsort)\n",
    "p(\"-------------------------------------------\")\n",
    "\n",
    "# Reshape the matrix into array\n",
    "p(\"Print reshaped matrix into a single 100 element array\")\n",
    "\n",
    "zz = z.reshape(100)\n",
    "p(zz)\n",
    "p(zz.shape)\n",
    "\n"
   ]
  },
  {
   "cell_type": "code",
   "execution_count": 46,
   "id": "e84fc8b1",
   "metadata": {},
   "outputs": [
    {
     "name": "stdout",
     "output_type": "stream",
     "text": [
      "[5 6]\n"
     ]
    }
   ],
   "source": [
    "# np.random.seed(number) will set a seeding to make the random values constant random value for all python users\n",
    "np.random.seed(0)\n",
    "x = np.random.randint(1,7, size=2)\n",
    "p(x)"
   ]
  },
  {
   "cell_type": "code",
   "execution_count": 189,
   "id": "564ad2bb",
   "metadata": {},
   "outputs": [
    {
     "data": {
      "text/plain": [
       "array([0.69646919, 0.28613933, 0.22685145, 0.55131477, 0.71946897])"
      ]
     },
     "execution_count": 189,
     "metadata": {},
     "output_type": "execute_result"
    }
   ],
   "source": [
    "# Setting seed (very important - for future projects to ensure reproducible results)\n",
    "np.random.seed(123)\n",
    "np.random.rand(5)"
   ]
  },
  {
   "cell_type": "code",
   "execution_count": 190,
   "id": "0c7726fe",
   "metadata": {},
   "outputs": [
    {
     "data": {
      "text/plain": [
       "array([0.69646919, 0.28613933, 0.22685145, 0.55131477, 0.71946897])"
      ]
     },
     "execution_count": 190,
     "metadata": {},
     "output_type": "execute_result"
    }
   ],
   "source": [
    "np.random.seed(123)\n",
    "np.random.rand(5)"
   ]
  },
  {
   "cell_type": "code",
   "execution_count": 317,
   "id": "7d94973e",
   "metadata": {},
   "outputs": [
    {
     "name": "stdout",
     "output_type": "stream",
     "text": [
      "[ 0.   0.1  0.2  0.3  0.4  0.5  0.6  0.7  0.8  0.9  1.   1.1  1.2  1.3\n",
      "  1.4  1.5  1.6  1.7  1.8  1.9  2.   2.1  2.2  2.3  2.4  2.5  2.6  2.7\n",
      "  2.8  2.9  3.   3.1  3.2  3.3  3.4  3.5  3.6  3.7  3.8  3.9  4.   4.1\n",
      "  4.2  4.3  4.4  4.5  4.6  4.7  4.8  4.9  5.   5.1  5.2  5.3  5.4  5.5\n",
      "  5.6  5.7  5.8  5.9  6.   6.1  6.2  6.3  6.4  6.5  6.6  6.7  6.8  6.9\n",
      "  7.   7.1  7.2  7.3  7.4  7.5  7.6  7.7  7.8  7.9  8.   8.1  8.2  8.3\n",
      "  8.4  8.5  8.6  8.7  8.8  8.9  9.   9.1  9.2  9.3  9.4  9.5  9.6  9.7\n",
      "  9.8  9.9 10. ]\n",
      "101\n",
      "<class 'numpy.ndarray'>\n"
     ]
    }
   ],
   "source": [
    "# np.linspace(starting value, end value, number of elements in this array)\n",
    "y = np.linspace(0,10, 101)\n",
    "p(y)\n",
    "p(len(y))\n",
    "p(type(y))"
   ]
  },
  {
   "cell_type": "code",
   "execution_count": 205,
   "id": "a4a38fa0",
   "metadata": {},
   "outputs": [
    {
     "name": "stdout",
     "output_type": "stream",
     "text": [
      "[0.  0.2 0.4 0.6 0.8 1.  1.2 1.4 1.6 1.8 2.  2.2 2.4 2.6 2.8 3.  3.2 3.4\n",
      " 3.6 3.8 4.  4.2 4.4 4.6 4.8 5.  5.2 5.4 5.6 5.8 6.  6.2 6.4 6.6 6.8 7.\n",
      " 7.2 7.4 7.6 7.8 8.  8.2 8.4 8.6 8.8 9.  9.2 9.4 9.6 9.8]\n",
      "50\n"
     ]
    },
    {
     "data": {
      "text/plain": [
       "numpy.ndarray"
      ]
     },
     "execution_count": 205,
     "metadata": {},
     "output_type": "execute_result"
    }
   ],
   "source": [
    "# The essential difference between NumPy linspace and NumPy arange \n",
    "# is that linspace enables you to control the precise end value, \n",
    "# whereas arange gives you more direct control over the increments between values in the sequence.\n",
    "y = np.arange(0,10, 0.2)\n",
    "p(y)\n",
    "p(len(y))\n",
    "type(y)"
   ]
  },
  {
   "cell_type": "code",
   "execution_count": 45,
   "id": "5843b2ea",
   "metadata": {},
   "outputs": [
    {
     "name": "stdout",
     "output_type": "stream",
     "text": [
      "[[0.61073732 0.64775064 0.57817151 0.59620984 0.18240835]\n",
      " [0.51169856 0.58312493 0.43621324 0.4000174  0.53713181]]\n",
      "2\n",
      "The mean of the entire matrix: \n",
      "0.5083463584595181\n",
      "The mean column wise: \n",
      "[0.56121794 0.61543778 0.50719237 0.49811362 0.35977008]\n",
      "The mean row wise: \n",
      "[0.52305553 0.49363719]\n",
      "median: \n",
      "0.5576516586744904\n",
      "median row wise: \n",
      "[0.59620984 0.51169856]\n",
      "variance: \n",
      "0.0172118615159497\n",
      "variance row wise: \n",
      "[0.02953336 0.00445765]\n"
     ]
    }
   ],
   "source": [
    "# create an array of 10 random elements\n",
    "y = np.random.rand(2,5)\n",
    "p(y)\n",
    "p(len(y))\n",
    "\n",
    "# calculate the mean of this matrix\n",
    "p(\"The mean of the entire matrix: \")\n",
    "p(np.mean(y))\n",
    "\n",
    "# calculate the mean of this matrix column wise\n",
    "p(\"The mean column wise: \")\n",
    "p(np.mean(y, axis= 0))\n",
    "\n",
    "# calculate the mean of this matrix column row\n",
    "p(\"The mean row wise: \")\n",
    "p(np.mean(y, axis= 1))\n",
    "\n",
    "# calculate the median of this matrix\n",
    "p(\"median: \")\n",
    "p(np.median(y))\n",
    "\n",
    "# calculate the median of this matrix row wise\n",
    "p(\"median row wise: \")\n",
    "p(np.median(y, axis = 1))\n",
    "\n",
    "# calculate the variance of this matrix\n",
    "p(\"variance: \")\n",
    "p(np.var(y))\n",
    "\n",
    "# calculate the variance of this matrix row wise\n",
    "p(\"variance row wise: \")\n",
    "p(np.var(y, axis = 1))"
   ]
  },
  {
   "cell_type": "code",
   "execution_count": 363,
   "id": "06fc8581",
   "metadata": {},
   "outputs": [
    {
     "name": "stdout",
     "output_type": "stream",
     "text": [
      "[[0.92984809 0.71252314 0.8120745  0.45476144 0.32726268 0.13830675]]\n",
      "(1, 6)\n",
      "2\n",
      "1\n",
      "[0.92984809 0.71252314 0.8120745  0.45476144 0.32726268 0.13830675]\n"
     ]
    }
   ],
   "source": [
    "# Reshape y into a 6 element array\n",
    "zz = y.reshape(1,6)\n",
    "p(zz)\n",
    "p(zz.shape)\n",
    "p(zz.ndim)\n",
    "p(len(zz))\n",
    "p(np.mean(zz, axis=0))\n"
   ]
  },
  {
   "cell_type": "code",
   "execution_count": 48,
   "id": "a5ac5a16",
   "metadata": {},
   "outputs": [
    {
     "name": "stdout",
     "output_type": "stream",
     "text": [
      "[0.63427406 0.95894927 0.65279032 0.63505887 0.99529957 0.58185033\n",
      " 0.41436859 0.4746975  0.6235101  0.33800761 0.67475232 0.31720174\n",
      " 0.77834548 0.94957105 0.66252687 0.01357164 0.6228461  0.67365963\n",
      " 0.971945   0.87819347 0.50962438 0.05571469 0.45115921 0.01998767\n",
      " 0.44171092 0.97958673 0.35944446 0.48089353 0.68866118 0.88047589\n",
      " 0.91823547 0.21682214 0.56518887 0.86510256 0.50896896 0.91672295\n",
      " 0.92115761 0.08311249 0.27771856 0.0093567  0.84234208 0.64717414\n",
      " 0.84138612 0.26473016 0.39782075 0.55282148 0.16494046 0.36980809\n",
      " 0.14644176 0.56961841]\n",
      "50\n",
      "[0.63427406 0.95894927 0.65279032 0.63505887 0.99529957 0.58185033\n",
      " 0.41436859 0.4746975  0.6235101  0.33800761 0.67475232 0.31720174\n",
      " 0.77834548 0.94957105 0.66252687 0.01357164 0.6228461  0.67365963\n",
      " 0.971945   0.87819347 0.50962438 0.05571469 0.45115921 0.01998767\n",
      " 0.44171092]\n",
      "25\n",
      "[0.97958673 0.35944446 0.48089353 0.68866118 0.88047589 0.91823547\n",
      " 0.21682214 0.56518887 0.86510256 0.50896896 0.91672295 0.92115761\n",
      " 0.08311249 0.27771856 0.0093567  0.84234208 0.64717414 0.84138612\n",
      " 0.26473016 0.39782075 0.55282148 0.16494046 0.36980809 0.14644176\n",
      " 0.56961841]\n",
      "25\n"
     ]
    }
   ],
   "source": [
    "# create an array with 50 random values\n",
    "a = np.random.rand(50)\n",
    "p(a)\n",
    "p(len(a))\n",
    "\n",
    "# create a subset of the above array with with first 25 values\n",
    "b = a[0:25]\n",
    "p(b)\n",
    "p(len(b))\n",
    "\n",
    "# create a second subset of the above array with the last 25 values\n",
    "z = a[25:50]\n",
    "p(z)\n",
    "p(len(z))"
   ]
  },
  {
   "cell_type": "code",
   "execution_count": 50,
   "id": "e875c4bb",
   "metadata": {},
   "outputs": [
    {
     "name": "stdout",
     "output_type": "stream",
     "text": [
      "(5, 5)\n",
      "(5, 5)\n",
      "[[3.18545534 1.61238935 1.80366033 1.76155404 1.87222695]\n",
      " [2.09769356 1.19552912 1.20306856 1.10556173 1.16822816]\n",
      " [2.83189422 1.75210653 1.61241685 1.30365046 1.51797831]\n",
      " [2.50696761 1.53433907 1.55708581 1.12116715 1.22215712]\n",
      " [1.22499223 0.69664209 0.49422697 0.594429   0.74084857]]\n",
      "(5, 5)\n",
      "-0.001038619032569381\n",
      "[[3.18545534 1.61238935 1.80366033 1.76155404 1.87222695]\n",
      " [2.09769356 1.19552912 1.20306856 1.10556173 1.16822816]\n",
      " [2.83189422 1.75210653 1.61241685 1.30365046 1.51797831]\n",
      " [2.50696761 1.53433907 1.55708581 1.12116715 1.22215712]\n",
      " [1.22499223 0.69664209 0.49422697 0.594429   0.74084857]]\n"
     ]
    }
   ],
   "source": [
    "# reshape the first subset into 5x5 matrix\n",
    "bb = b.reshape(5,5)\n",
    "p(bb.shape)\n",
    "\n",
    "# reshape the second subset into a 5x5 matrix\n",
    "zz = z.reshape(5,5)\n",
    "p(zz.shape)\n",
    "\n",
    "# multiply the 2 matrices using matrix operation\n",
    "gg = np.matmul(bb,zz)\n",
    "p(gg)\n",
    "p(gg.shape)\n",
    "gg_det = np.linalg.det(gg)\n",
    "p(gg_det)\n",
    "\n",
    "# we can also use the @ operator to perform the matrix multiplciatoin \n",
    "hh = bb @ zz\n",
    "p(hh)"
   ]
  },
  {
   "cell_type": "code",
   "execution_count": null,
   "id": "fe0f6a26",
   "metadata": {},
   "outputs": [],
   "source": []
  }
 ],
 "metadata": {
  "kernelspec": {
   "display_name": "Python 3 (ipykernel)",
   "language": "python",
   "name": "python3"
  },
  "language_info": {
   "codemirror_mode": {
    "name": "ipython",
    "version": 3
   },
   "file_extension": ".py",
   "mimetype": "text/x-python",
   "name": "python",
   "nbconvert_exporter": "python",
   "pygments_lexer": "ipython3",
   "version": "3.9.12"
  }
 },
 "nbformat": 4,
 "nbformat_minor": 5
}
