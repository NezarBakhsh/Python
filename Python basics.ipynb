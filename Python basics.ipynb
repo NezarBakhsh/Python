{
 "cells": [
  {
   "cell_type": "code",
   "execution_count": 1,
   "id": "e60f349f",
   "metadata": {},
   "outputs": [
    {
     "name": "stdout",
     "output_type": "stream",
     "text": [
      "1\n"
     ]
    }
   ],
   "source": [
    "# convert string number to int\n",
    "a = \"1\"\n",
    "b = int(a)\n",
    "print(b)"
   ]
  },
  {
   "cell_type": "code",
   "execution_count": 3,
   "id": "d4064e31",
   "metadata": {},
   "outputs": [
    {
     "name": "stdout",
     "output_type": "stream",
     "text": [
      "what is your input?sda\n",
      "sda\n"
     ]
    }
   ],
   "source": [
    "# take an input from user\n",
    "inp = input(\"what is your input?\")\n",
    "print(inp)"
   ]
  },
  {
   "cell_type": "code",
   "execution_count": 4,
   "id": "e5c980f2",
   "metadata": {},
   "outputs": [],
   "source": [
    "# < less than\n",
    "# <= less than or equal to\n",
    "# == equal to\n",
    "# >= greateer than or equal to\n",
    "# > greater than\n",
    "# != not equal"
   ]
  },
  {
   "cell_type": "code",
   "execution_count": 15,
   "id": "7bad4ac3",
   "metadata": {},
   "outputs": [
    {
     "name": "stdout",
     "output_type": "stream",
     "text": [
      "3\n",
      "2.419271042981335\n"
     ]
    }
   ],
   "source": [
    "# import numpy\n",
    "import numpy as np\n",
    "\n",
    "# set a as a list then find the sum\n",
    "a = [0,1,2]\n",
    "print(sum(a))\n",
    "\n",
    "# set a numpy array and find the sum\n",
    "b = np.random.rand(5)\n",
    "print(sum(b))"
   ]
  },
  {
   "cell_type": "code",
   "execution_count": 24,
   "id": "9bbc1b57",
   "metadata": {},
   "outputs": [
    {
     "name": "stdout",
     "output_type": "stream",
     "text": [
      "What is your languagear\n",
      "ar7b\n"
     ]
    }
   ],
   "source": [
    "# creating functions that acceps input from user\n",
    "inp = input(\"What is your language\")\n",
    "\n",
    "def greet(language):\n",
    "    if language == \"es\":\n",
    "        return 'Hola'\n",
    "    if language == \"en\":\n",
    "        return \"hello\"\n",
    "    if language == \"ar\":\n",
    "        return \"ar7b\"\n",
    "        \n",
    "print(greet(inp))\n",
    "    "
   ]
  },
  {
   "cell_type": "code",
   "execution_count": 26,
   "id": "c9d1997e",
   "metadata": {},
   "outputs": [
    {
     "name": "stdout",
     "output_type": "stream",
     "text": [
      "first v10\n",
      "second v10\n",
      "100\n"
     ]
    }
   ],
   "source": [
    "# create a function with 2 arguments\n",
    "\n",
    "v1 = int(input(\"first v\"))\n",
    "v2 = int(input(\"second v\"))\n",
    "\n",
    "def my_function(a,b):\n",
    "    return a*b\n",
    "\n",
    "print(my_function(v1,v2))"
   ]
  },
  {
   "cell_type": "code",
   "execution_count": 30,
   "id": "5eb80479",
   "metadata": {},
   "outputs": [
    {
     "name": "stdout",
     "output_type": "stream",
     "text": [
      "50\n"
     ]
    }
   ],
   "source": [
    "# create a while loop\n",
    "n = 5\n",
    "x=0\n",
    "\n",
    "while n > 0:\n",
    "    x = x + 10\n",
    "    n = n - 1\n",
    "    \n",
    "print(x)"
   ]
  },
  {
   "cell_type": "code",
   "execution_count": 31,
   "id": "0ba4f529",
   "metadata": {},
   "outputs": [],
   "source": [
    "# the break statement ends the current loop and jumps to the statement immediately following the loop\n",
    "# the continue statement ends the current loop and jumps to the top of the loop for a new iteration\n"
   ]
  },
  {
   "cell_type": "code",
   "execution_count": 1,
   "id": "53e14075",
   "metadata": {},
   "outputs": [
    {
     "name": "stdout",
     "output_type": "stream",
     "text": [
      "b\n"
     ]
    }
   ],
   "source": [
    "# STRINGS\n",
    "# we can get at any singele character in  a string using an index specified in square brakets\n",
    "fruit = \"banana\"\n",
    "letter = fruit[0]\n",
    "print(letter)"
   ]
  },
  {
   "cell_type": "code",
   "execution_count": 34,
   "id": "4b54d13a",
   "metadata": {},
   "outputs": [],
   "source": [
    "# len() fucntion returns the number of elenments in a container"
   ]
  },
  {
   "cell_type": "code",
   "execution_count": 37,
   "id": "738b56bf",
   "metadata": {},
   "outputs": [
    {
     "name": "stdout",
     "output_type": "stream",
     "text": [
      "b\n",
      "a\n",
      "n\n",
      "a\n",
      "n\n",
      "a\n"
     ]
    }
   ],
   "source": [
    "# print each letter in a string\n",
    "fruit = \"banana\"\n",
    "index = 0\n",
    "\n",
    "while index < len(fruit):\n",
    "    print(fruit[index])\n",
    "    index = index +1"
   ]
  },
  {
   "cell_type": "code",
   "execution_count": 4,
   "id": "ce1e2837",
   "metadata": {},
   "outputs": [
    {
     "name": "stdout",
     "output_type": "stream",
     "text": [
      "what letter is our targetb\n",
      "1\n",
      "banana\n"
     ]
    }
   ],
   "source": [
    "# count how many letters in a string\n",
    "fruit = \"banana\"\n",
    "look_for = input(\"what letter is our target\")\n",
    "index = 0\n",
    "counter = 0\n",
    "\n",
    "while index < len(fruit):\n",
    "    if fruit[index] == look_for:\n",
    "        counter = counter + 1\n",
    "    index = index + 1\n",
    "print(counter)\n",
    "print(fruit)"
   ]
  },
  {
   "cell_type": "code",
   "execution_count": 8,
   "id": "69ed6996",
   "metadata": {},
   "outputs": [
    {
     "data": {
      "text/plain": [
       "True"
      ]
     },
     "execution_count": 8,
     "metadata": {},
     "output_type": "execute_result"
    }
   ],
   "source": [
    "# use in to test if a letter is in a string\n",
    "fruit = \"banana\"\n",
    "\"a\" in fruit"
   ]
  },
  {
   "cell_type": "code",
   "execution_count": 12,
   "id": "889f08ec",
   "metadata": {},
   "outputs": [
    {
     "name": "stdout",
     "output_type": "stream",
     "text": [
      "bananana\n"
     ]
    }
   ],
   "source": [
    "# make characters in a string all lower\n",
    "a = \"BANANANA\"\n",
    "b = a.lower()\n",
    "print(b)"
   ]
  },
  {
   "cell_type": "code",
   "execution_count": 17,
   "id": "9285602b",
   "metadata": {},
   "outputs": [],
   "source": [
    "# FILES\n",
    "# the open() function return a handle. we can use the handle to perform things on the file\n",
    "# handle1 = open(filename, mode)\n",
    "# filename is a string\n",
    "# mode is optional, it is r if we want to read, and w if we want to write"
   ]
  },
  {
   "cell_type": "code",
   "execution_count": 18,
   "id": "86852bb9",
   "metadata": {},
   "outputs": [],
   "source": [
    "# strings are immutable\n",
    "# lists are mutable, we can change it"
   ]
  },
  {
   "cell_type": "code",
   "execution_count": 20,
   "id": "2dbb952a",
   "metadata": {},
   "outputs": [
    {
     "name": "stdout",
     "output_type": "stream",
     "text": [
      "[1, 2, 3, 11, 22, 33]\n",
      "[1, 2, 3, 11]\n"
     ]
    }
   ],
   "source": [
    "# concatenating lists\n",
    "a = [1,2,3]\n",
    "b = [11,22,33]\n",
    "c = a + b\n",
    "print(c)\n",
    "\n",
    "# we can also slide lists\n",
    "print(c[0:4])"
   ]
  },
  {
   "cell_type": "code",
   "execution_count": 25,
   "id": "4e2477d5",
   "metadata": {},
   "outputs": [
    {
     "name": "stdout",
     "output_type": "stream",
     "text": [
      "[1, 2, 3]\n",
      "[1, 2, 3, 9]\n",
      "15\n"
     ]
    }
   ],
   "source": [
    "# Create an empty list\n",
    "stuff = list() # this is emprt\n",
    "\n",
    "a = [1,2,3]\n",
    "# Use the .append as listname.append(itemname) to add elements to the list\n",
    "for i in a:\n",
    "    stuff.append(i)\n",
    "\n",
    "print(stuff)\n",
    "stuff.append(4+5)\n",
    "print(stuff)\n",
    "print(sum(stuff))"
   ]
  },
  {
   "cell_type": "code",
   "execution_count": 39,
   "id": "7b967991",
   "metadata": {},
   "outputs": [
    {
     "name": "stdout",
     "output_type": "stream",
     "text": [
      "[0. 0. 1.]\n"
     ]
    }
   ],
   "source": [
    "import numpy as np\n",
    "a = np.zeros(2)\n",
    "a = np.append(a,1)\n",
    "\n",
    "print(a)"
   ]
  },
  {
   "cell_type": "code",
   "execution_count": 50,
   "id": "bf60c74b",
   "metadata": {},
   "outputs": [
    {
     "name": "stdout",
     "output_type": "stream",
     "text": [
      "[0, 11, 22, 33, 231, 3312, 21321, 32131]\n"
     ]
    }
   ],
   "source": [
    "# sorting lists\n",
    "b = [11,22,33, 3312 ,32131 ,21321, 0 , 231 ]\n",
    "b.sort()\n",
    "print(b)"
   ]
  },
  {
   "cell_type": "code",
   "execution_count": 52,
   "id": "14732477",
   "metadata": {},
   "outputs": [
    {
     "name": "stdout",
     "output_type": "stream",
     "text": [
      "['what', 'the', 'hell']\n"
     ]
    }
   ],
   "source": [
    "# use the split function to split a string\n",
    "abc = \"what the hell\"\n",
    "abc_split = abc.split()\n",
    "print(abc_split)"
   ]
  },
  {
   "cell_type": "code",
   "execution_count": 55,
   "id": "3c2417fe",
   "metadata": {},
   "outputs": [
    {
     "name": "stdout",
     "output_type": "stream",
     "text": [
      "{}\n"
     ]
    }
   ],
   "source": [
    "# create an empty dictionary\n",
    "purse = dict()\n",
    "print(purse)"
   ]
  },
  {
   "cell_type": "code",
   "execution_count": 66,
   "id": "075655c3",
   "metadata": {},
   "outputs": [
    {
     "name": "stdout",
     "output_type": "stream",
     "text": [
      "{'Nezr': 1, '3yoosh': 1, 'Nezar': 1, 'N': 2}\n"
     ]
    }
   ],
   "source": [
    "# Counting with dictionary\n",
    "counts = dict()\n",
    "names = [\"Nezr\", \"3yoosh\", \"Nezar\", \"N\", \"N\"]\n",
    "\n",
    "for i in names:\n",
    "    if i in counts:\n",
    "        counts[i] = counts[i] + 1\n",
    "    else:\n",
    "        counts[i] = 1\n",
    "\n",
    "print(counts)\n",
    "   \n",
    "       "
   ]
  },
  {
   "cell_type": "code",
   "execution_count": null,
   "id": "e7635b5e",
   "metadata": {},
   "outputs": [],
   "source": [
    "### Counting with dictionary using the get method !!!!!!!!!!\n",
    "counts = dict()\n",
    "names = [\"Nezr\", \"3yoosh\", \"Nezar\", \"N\", \"N\"]\n",
    "\n",
    "for i in names:\n",
    "    counts[i] = counts.get(i,0) + 1\n",
    "\n",
    "print(counts)\n"
   ]
  },
  {
   "cell_type": "code",
   "execution_count": 76,
   "id": "5a74b15e",
   "metadata": {},
   "outputs": [
    {
     "name": "stdout",
     "output_type": "stream",
     "text": [
      "{'N': (1, 2), 'A': 2}\n",
      "dict_keys(['N', 'A'])\n",
      "dict_values([(1, 2), 2])\n",
      "dict_items([('N', (1, 2)), ('A', 2)])\n",
      "----------------------------------------------\n",
      "N (1, 2)\n",
      "A 2\n"
     ]
    }
   ],
   "source": [
    "# using the .keys() & .values() methods in dictionary\n",
    "my_dic = {'N':(1,2), 'A':2}\n",
    "print(my_dic)\n",
    "my_keys = my_dic.keys()\n",
    "my_values = my_dic.values()\n",
    "\n",
    "print(my_keys)\n",
    "print(my_values)\n",
    "print(my_dic.items())\n",
    "print(\"----------------------------------------------\")\n",
    "\n",
    "for a,b in my_dic.items():\n",
    "    print(a,b)\n"
   ]
  },
  {
   "cell_type": "code",
   "execution_count": null,
   "id": "480efdff",
   "metadata": {},
   "outputs": [],
   "source": []
  }
 ],
 "metadata": {
  "kernelspec": {
   "display_name": "Python 3 (ipykernel)",
   "language": "python",
   "name": "python3"
  },
  "language_info": {
   "codemirror_mode": {
    "name": "ipython",
    "version": 3
   },
   "file_extension": ".py",
   "mimetype": "text/x-python",
   "name": "python",
   "nbconvert_exporter": "python",
   "pygments_lexer": "ipython3",
   "version": "3.9.12"
  }
 },
 "nbformat": 4,
 "nbformat_minor": 5
}
